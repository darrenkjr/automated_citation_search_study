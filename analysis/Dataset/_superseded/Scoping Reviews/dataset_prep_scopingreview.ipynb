{
 "cells": [
  {
   "cell_type": "code",
   "execution_count": 1,
   "metadata": {},
   "outputs": [],
   "source": [
    "import pandas as pd \n",
    "import rispy \n",
    "import nbib\n",
    "import os \n"
   ]
  },
  {
   "cell_type": "code",
   "execution_count": 2,
   "metadata": {},
   "outputs": [],
   "source": [
    "#prepping scoping review data \n",
    "working_directory = os.path.abspath(os.getcwd())\n",
    "pubmed_df_bulk = pd.DataFrame()\n",
    "wos_df_bulk = pd.DataFrame()\n",
    "\n",
    "for file in os.scandir(working_directory): \n",
    "    if file.name.startswith('WOS'):\n",
    "        with open (file.path, 'r', encoding='UTF-8') as f:\n",
    "            wos_df = pd.DataFrame(rispy.load(f))\n",
    "            wos_df_bulk = pd.concat([wos_df_bulk, wos_df], ignore_index=True)\n",
    "\n",
    "    if file.name.startswith('PubMed'): \n",
    "        pubmed_df = pd.DataFrame(nbib.read_file(file.path))\n",
    "        pubmed_df_bulk = pd.concat([pubmed_df_bulk, pubmed_df], ignore_index=True)\n",
    "\n",
    "\n"
   ]
  },
  {
   "cell_type": "code",
   "execution_count": 3,
   "metadata": {},
   "outputs": [],
   "source": [
    "#prepping scoping review data, i'm only interesting in title, abstract, and doi, and I am sampling 10 articles from each database\n",
    "\n",
    "wos_df_sample = wos_df_bulk[['title', 'abstract', 'doi']].sample(n=20, random_state=42)\n",
    "pubmed_df_sample = pubmed_df_bulk[['title', 'abstract', 'doi']].sample(n=20, random_state=42)\n",
    "\n",
    "\n",
    "wos_df_sample['source'] = 'WOS'\n",
    "pubmed_df_sample['source'] = 'PubMed'\n",
    "#saving the dataframes as csv files\n",
    "scoping_review_pool = pd.concat([wos_df_sample, pubmed_df_sample], ignore_index=True)\n",
    "scoping_review_pool.to_csv('scoping_review_pool.csv', index=False)\n",
    "\n",
    "#conducting stratified random sampling \n",
    "scoping_review_samples = scoping_review_pool.groupby('source').apply(lambda x: x.sample(n=15, random_state=2803))\n",
    "scoping_review_samples.to_csv('scoping_review_samples.csv', index=False)\n",
    "\n"
   ]
  }
 ],
 "metadata": {
  "kernelspec": {
   "display_name": "dataset_prep",
   "language": "python",
   "name": "python3"
  },
  "language_info": {
   "codemirror_mode": {
    "name": "ipython",
    "version": 3
   },
   "file_extension": ".py",
   "mimetype": "text/x-python",
   "name": "python",
   "nbconvert_exporter": "python",
   "pygments_lexer": "ipython3",
   "version": "3.11.0"
  },
  "orig_nbformat": 4,
  "vscode": {
   "interpreter": {
    "hash": "77f5a34fc8be6581ec9cf29028f1548a84c400aa8a4fa103011ce7745c9f8e76"
   }
  }
 },
 "nbformat": 4,
 "nbformat_minor": 2
}
